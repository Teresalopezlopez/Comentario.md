{
 "cells": [
  {
   "cell_type": "markdown",
   "metadata": {},
   "source": [
    "# Probando con R"
   ]
  },
  {
   "cell_type": "markdown",
   "metadata": {},
   "source": [
    "R es un lenguaje de programación enfocado al análisis estadístico."
   ]
  },
  {
   "cell_type": "markdown",
   "metadata": {},
   "source": [
    "## Gráfico de las bajas guerra Rusia - Ucrania "
   ]
  },
  {
   "cell_type": "markdown",
   "metadata": {},
   "source": [
    "Este cuaderno tiene como objetivo la familiatrización con dicho lenguaje.\n",
    "En concreto, se pretende elaborar un gráfico de barras con etiquetas sobre las bajas en **artillería, aeronaves y tanques** en los respectivos ejércitos ruso y ucraniano que la presente guerra está causando.\n",
    "Estos datos serán extraídos de Newtral y se introducirán en la sintaxis de este tipo de gráfico para el presente lenguaje, que será extraído de **ggplot2**.\n",
    "Para ello, lo primero que haremos sera intstalar la librería, que a continuación importaremos para finalmente crear los datos y lograr el gráfico. "
   ]
  },
  {
   "cell_type": "markdown",
   "metadata": {},
   "source": [
    "## Instalar librerías"
   ]
  },
  {
   "cell_type": "markdown",
   "metadata": {},
   "source": [
    "El primer paso es instalar la librería que nos permite trabajar con R."
   ]
  },
  {
   "cell_type": "code",
   "execution_count": 4,
   "metadata": {},
   "outputs": [
    {
     "ename": "ERROR",
     "evalue": "Error in parse(text = x, srcfile = src): <text>:1:6: unexpected symbol\n1: Para instalar\n         ^\n",
     "output_type": "error",
     "traceback": [
      "Error in parse(text = x, srcfile = src): <text>:1:6: unexpected symbol\n1: Para instalar\n         ^\nTraceback:\n"
     ]
    }
   ],
   "source": [
    "Para instalar librerías:\n",
    "'''\n",
    "Install.packages(\"ggplot2\")\n",
    "'''"
   ]
  },
  {
   "cell_type": "markdown",
   "metadata": {},
   "source": [
    "## Importar librerías"
   ]
  },
  {
   "cell_type": "markdown",
   "metadata": {},
   "source": [
    "Importamos las librerías de diagrama de barras agrupado y porcentualmente apilados con R y ggplot2."
   ]
  },
  {
   "cell_type": "code",
   "execution_count": 5,
   "metadata": {},
   "outputs": [],
   "source": [
    "library(ggplot2)"
   ]
  },
  {
   "cell_type": "markdown",
   "metadata": {},
   "source": [
    "## Crear Datos"
   ]
  },
  {
   "cell_type": "markdown",
   "metadata": {},
   "source": [
    "Definimos los datos y creamos las etiquetas con la sintaxis importada y vemos cómo da resultado."
   ]
  },
  {
   "cell_type": "code",
   "execution_count": 10,
   "metadata": {},
   "outputs": [
    {
     "data": {
      "image/png": "[encoded data removed]",
      "text/plain": [
       "plot without title"
      ]
     },
     "metadata": {
      "image/png": {
       "height": 420,
       "width": 420
      }
     },
     "output_type": "display_data"
    }
   ],
   "source": [
    "# create a dataset\n",
    "bajas <- c(rep(\"Tanques\" , 2) , rep(\"Artillería\" , 2) , rep(\"Aeronaves\" , 2)) \n",
    "paises <- rep(c(\"Rusia\" , \"Ucrania\") , 3)\n",
    "value <- abs(rnorm(12 , 0 , 15))\n",
    "data <- data.frame(bajas,paises,value)\n",
    " \n",
    "# Grouped\n",
    "ggplot(data, aes(fill=paises, y=value, x=bajas)) + \n",
    "    geom_bar(position=\"dodge\", stat=\"identity\")"
   ]
  },
  {
   "cell_type": "markdown",
   "metadata": {},
   "source": [
    "## Me falta por entender\n",
    "Entiendo el camino recorrido que me trae hasta aquí. Me falta familiarizarme lo suficinete como para poder andarlo sola. Me falta por entender por qué al instalar la librería da un error. Me falta por entender la diferencia entre las fuentes de datos que utilizamos y las distintas librerías y los motivos de su variación (ggplot2, matplotlib, numpy...)."
   ]
  }
 ],
 "metadata": {
  "kernelspec": {
   "display_name": "R",
   "language": "R",
   "name": "ir"
  },
  "language_info": {
   "codemirror_mode": "r",
   "file_extension": ".r",
   "mimetype": "text/x-r-source",
   "name": "R",
   "pygments_lexer": "r",
   "version": "4.1.0"
  }
 },
 "nbformat": 4,
 "nbformat_minor": 4
}
